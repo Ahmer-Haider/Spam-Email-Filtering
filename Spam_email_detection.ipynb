{
 "cells": [
  {
   "cell_type": "code",
   "execution_count": 1,
   "id": "b1ff1764-ddff-42ec-af28-7c4909886130",
   "metadata": {},
   "outputs": [],
   "source": [
    "import numpy as np\n",
    "import pandas as pd\n",
    "import nltk\n",
    "from nltk.corpus import stopwords\n",
    "import string\n"
   ]
  },
  {
   "cell_type": "code",
   "execution_count": 2,
   "id": "09f36f84-3bc8-4e1e-bb3d-168e694ad8e7",
   "metadata": {},
   "outputs": [],
   "source": [
    "\n",
    "df = pd.read_csv(\"spam.csv\", encoding='ISO-8859-1')\n",
    "\n",
    "df.head()\n",
    "\n",
    "df = df.drop_duplicates()\n",
    "\n",
    "df.rename(columns={\"v1\": \"Category\", \"v2\": \"Message\"}, inplace=True)\n",
    "\n",
    "df.drop(columns={'Unnamed: 2','Unnamed: 3','Unnamed: 4'}, inplace=True)\n",
    "\n"
   ]
  },
  {
   "cell_type": "code",
   "execution_count": 3,
   "id": "06483cf9-0b2f-4446-abd9-79b94409e85c",
   "metadata": {},
   "outputs": [
    {
     "name": "stdout",
     "output_type": "stream",
     "text": [
      "(5169, 3)\n"
     ]
    }
   ],
   "source": [
    "df['Spam'] = df['Category'].apply(lambda x: 1 if x == 'spam' else 0)\n",
    "\n",
    "df.drop_duplicates(inplace=True)\n",
    "\n",
    "print(df.shape)\n",
    "\n"
   ]
  },
  {
   "cell_type": "code",
   "execution_count": 4,
   "id": "3d3f79cf-0b48-454c-b0d0-c40ab673f700",
   "metadata": {},
   "outputs": [
    {
     "name": "stderr",
     "output_type": "stream",
     "text": [
      "[nltk_data] Downloading package stopwords to\n",
      "[nltk_data]     C:\\Users\\Hassan\\AppData\\Roaming\\nltk_data...\n",
      "[nltk_data]   Package stopwords is already up-to-date!\n"
     ]
    },
    {
     "data": {
      "text/plain": [
       "True"
      ]
     },
     "execution_count": 4,
     "metadata": {},
     "output_type": "execute_result"
    }
   ],
   "source": [
    "nltk.download(\"stopwords\")\n",
    "\n"
   ]
  },
  {
   "cell_type": "code",
   "execution_count": 5,
   "id": "c5d46041-93dc-450d-b8e0-551706e58df8",
   "metadata": {},
   "outputs": [
    {
     "data": {
      "text/plain": [
       "0    [Go, jurong, point, crazy, Available, bugis, n...\n",
       "1                       [Ok, lar, Joking, wif, u, oni]\n",
       "2    [Free, entry, 2, wkly, comp, win, FA, Cup, fin...\n",
       "3        [U, dun, say, early, hor, U, c, already, say]\n",
       "4    [Nah, dont, think, goes, usf, lives, around, t...\n",
       "Name: Message, dtype: object"
      ]
     },
     "execution_count": 5,
     "metadata": {},
     "output_type": "execute_result"
    }
   ],
   "source": [
    "def process(text):\n",
    "    nopunc = [char for char in text if char not in string.punctuation]\n",
    "    nopunc = ''.join(nopunc)\n",
    "\n",
    "    clean = [word for word in nopunc.split() if word.lower() not in stopwords.words('english')]\n",
    "    return clean\n",
    "\n",
    "df['Message'].head().apply(process)\n",
    "\n"
   ]
  },
  {
   "cell_type": "code",
   "execution_count": 6,
   "id": "1f6d9d3b-3333-4362-b66b-1159463e0403",
   "metadata": {},
   "outputs": [
    {
     "name": "stdout",
     "output_type": "stream",
     "text": [
      "(5169, 11304)\n"
     ]
    }
   ],
   "source": [
    "from sklearn.feature_extraction.text import CountVectorizer\n",
    "message = CountVectorizer(analyzer=process).fit_transform(df['Message'])\n",
    "\n",
    "from sklearn.model_selection import train_test_split\n",
    "xtrain, xtest, ytrain, ytest = train_test_split(message, df['Spam'], test_size=0.20, random_state=0)\n",
    "\n",
    "print(message.shape)\n"
   ]
  },
  {
   "cell_type": "code",
   "execution_count": 7,
   "id": "c2c27013-4d8b-498d-9dc8-fd5a287d33a9",
   "metadata": {},
   "outputs": [
    {
     "name": "stdout",
     "output_type": "stream",
     "text": [
      "Predictions on training data: [0 0 0 ... 0 0 0]\n",
      "Actual training labels: [0 0 0 ... 0 0 0]\n"
     ]
    }
   ],
   "source": [
    "from sklearn.naive_bayes import MultinomialNB\n",
    "classifier = MultinomialNB().fit(xtrain, ytrain)\n",
    "\n",
    "print(\"Predictions on training data:\", classifier.predict(xtrain))\n",
    "\n",
    "print(\"Actual training labels:\", ytrain.values)\n"
   ]
  },
  {
   "cell_type": "code",
   "execution_count": 8,
   "id": "d85158c5-fff9-4a3e-b83f-c845afae4967",
   "metadata": {},
   "outputs": [
    {
     "name": "stdout",
     "output_type": "stream",
     "text": [
      "Classification Report (Training Data):\n",
      "               precision    recall  f1-score   support\n",
      "\n",
      "           0       1.00      1.00      1.00      3631\n",
      "           1       0.98      0.98      0.98       504\n",
      "\n",
      "    accuracy                           1.00      4135\n",
      "   macro avg       0.99      0.99      0.99      4135\n",
      "weighted avg       1.00      1.00      1.00      4135\n",
      "\n",
      "Confusion Matrix (Training Data):\n",
      " [[3623    8]\n",
      " [  11  493]]\n",
      "Accuracy (Training Data):\n",
      " 0.9954050785973397\n",
      "Predictions on test data: [0 0 0 ... 0 0 0]\n",
      "Actual test labels: [0 0 0 ... 0 0 0]\n",
      "Classification Report (Test Data):\n",
      "               precision    recall  f1-score   support\n",
      "\n",
      "           0       0.99      0.96      0.97       885\n",
      "           1       0.80      0.93      0.86       149\n",
      "\n",
      "    accuracy                           0.96      1034\n",
      "   macro avg       0.89      0.94      0.92      1034\n",
      "weighted avg       0.96      0.96      0.96      1034\n",
      "\n",
      "Confusion Matrix (Test Data):\n",
      " [[850  35]\n",
      " [ 11 138]]\n",
      "Accuracy (Test Data):\n",
      " 0.9555125725338491\n"
     ]
    }
   ],
   "source": [
    "from sklearn.metrics import classification_report, confusion_matrix, accuracy_score\n",
    "pred_train = classifier.predict(xtrain)\n",
    "print(\"Classification Report (Training Data):\\n\", classification_report(ytrain, pred_train))\n",
    "print(\"Confusion Matrix (Training Data):\\n\", confusion_matrix(ytrain, pred_train))\n",
    "print(\"Accuracy (Training Data):\\n\", accuracy_score(ytrain, pred_train))\n",
    "\n",
    "pred_test = classifier.predict(xtest)\n",
    "\n",
    "print(\"Predictions on test data:\", pred_test)\n",
    "\n",
    "print(\"Actual test labels:\", ytest.values)\n",
    "\n",
    "print(\"Classification Report (Test Data):\\n\", classification_report(ytest, pred_test))\n",
    "print(\"Confusion Matrix (Test Data):\\n\", confusion_matrix(ytest, pred_test))\n",
    "print(\"Accuracy (Test Data):\\n\", accuracy_score(ytest, pred_test))\n"
   ]
  },
  {
   "cell_type": "code",
   "execution_count": null,
   "id": "310e88c8-70d3-4ccb-a8fc-33f2a221c993",
   "metadata": {},
   "outputs": [],
   "source": []
  },
  {
   "cell_type": "code",
   "execution_count": 9,
   "id": "fe0c9697-0512-4a99-a4da-dcd437e02d01",
   "metadata": {},
   "outputs": [
    {
     "name": "stdout",
     "output_type": "stream",
     "text": [
      "Message: Congratulations! You've won a free ticket to Bahamas. Call now to claim.\n",
      "Prediction: Spam\n",
      "\n",
      "Message: Can you send me the report by tomorrow morning?\n",
      "Prediction: Not Spam\n",
      "\n"
     ]
    }
   ],
   "source": [
    "sample_messages = [\"Congratulations! You've won a free ticket to Bahamas. Call now to claim.\", \n",
    "                  \"Can you send me the report by tomorrow morning?\"]\n",
    "sample_data = CountVectorizer(analyzer=process).fit(df['Message']) \n",
    "sample_transformed = sample_data.transform(sample_messages)\n",
    "\n",
    "sample_predictions = classifier.predict(sample_transformed)\n",
    "\n",
    "for i, message in enumerate(sample_messages):\n",
    "    print(f\"Message: {message}\")\n",
    "    print(f\"Prediction: {'Spam' if sample_predictions[i] == 1 else 'Not Spam'}\")\n",
    "    print()"
   ]
  },
  {
   "cell_type": "code",
   "execution_count": null,
   "id": "669b0c21-0837-4d25-92e2-2c24b5563dd2",
   "metadata": {},
   "outputs": [],
   "source": []
  }
 ],
 "metadata": {
  "kernelspec": {
   "display_name": "Python 3 (ipykernel)",
   "language": "python",
   "name": "python3"
  },
  "language_info": {
   "codemirror_mode": {
    "name": "ipython",
    "version": 3
   },
   "file_extension": ".py",
   "mimetype": "text/x-python",
   "name": "python",
   "nbconvert_exporter": "python",
   "pygments_lexer": "ipython3",
   "version": "3.11.7"
  }
 },
 "nbformat": 4,
 "nbformat_minor": 5
}
